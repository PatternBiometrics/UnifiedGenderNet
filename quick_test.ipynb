{
  "cells": [
    {
      "cell_type": "markdown",
      "metadata": {
        "id": "U0S_MrQoqnu0"
      },
      "source": [
        "# UnifiedGenderNet —  Tests\n",
        "\n",
        "This notebook organizes your original Colab script into clear steps:\n",
        "1. **Environment & Paths**\n",
        "2. **Clone Repository**\n",
        "3. **Install Dependencies**\n",
        "4. **Environment Check**\n",
        "5. **Import Package**\n",
        "6. **Forward Pass**\n",
        "7. **Download & Load Checkpoints**\n",
        "8. **Optional: Download Sample Data**\n",
        "9. **Inference on a Sample Image**\n"
      ],
      "id": "U0S_MrQoqnu0"
    },
    {
      "cell_type": "markdown",
      "metadata": {
        "id": "fXFxTk2Kqnu3"
      },
      "source": [
        "## 1) Environment & Paths"
      ],
      "id": "fXFxTk2Kqnu3"
    },
    {
      "cell_type": "code",
      "execution_count": 1,
      "metadata": {
        "colab": {
          "base_uri": "https://localhost:8080/"
        },
        "id": "s3oSyWUpqnu3",
        "outputId": "e5a34718-c1f4-4572-dbf4-2efb452d6016"
      },
      "outputs": [
        {
          "output_type": "stream",
          "name": "stdout",
          "text": [
            "No previous repo found. Proceeding.\n"
          ]
        },
        {
          "output_type": "execute_result",
          "data": {
            "text/plain": [
              "(PosixPath('/content'), PosixPath('/content/UnifiedGenderNet'))"
            ]
          },
          "metadata": {},
          "execution_count": 1
        }
      ],
      "source": [
        "from pathlib import Path\n",
        "import shutil\n",
        "\n",
        "# Base working directory (change if desired)\n",
        "BASE_DIR = Path.cwd()\n",
        "REPO_DIR = BASE_DIR / \"UnifiedGenderNet\"\n",
        "\n",
        "# (Optional) Clean out an existing clone to start fresh\n",
        "if REPO_DIR.exists():\n",
        "    print(f\"Removing existing repo at: {REPO_DIR}\")\n",
        "    shutil.rmtree(REPO_DIR)\n",
        "else:\n",
        "    print(\"No previous repo found. Proceeding.\")\n",
        "\n",
        "BASE_DIR, REPO_DIR"
      ],
      "id": "s3oSyWUpqnu3"
    },
    {
      "cell_type": "markdown",
      "metadata": {
        "id": "Wp_LoEXMqnu4"
      },
      "source": [
        "## 2) Clone Repository"
      ],
      "id": "Wp_LoEXMqnu4"
    },
    {
      "cell_type": "code",
      "execution_count": 2,
      "metadata": {
        "colab": {
          "base_uri": "https://localhost:8080/"
        },
        "id": "C6f6inoyqnu4",
        "outputId": "a9c9bafa-13c7-43d9-d9e9-31571aa301a2"
      },
      "outputs": [
        {
          "output_type": "stream",
          "name": "stdout",
          "text": [
            "Cloning into 'UnifiedGenderNet'...\n",
            "remote: Enumerating objects: 140, done.\u001b[K\n",
            "remote: Counting objects: 100% (140/140), done.\u001b[K\n",
            "remote: Compressing objects: 100% (121/121), done.\u001b[K\n",
            "remote: Total 140 (delta 53), reused 0 (delta 0), pack-reused 0 (from 0)\u001b[K\n",
            "Receiving objects: 100% (140/140), 193.66 KiB | 11.39 MiB/s, done.\n",
            "Resolving deltas: 100% (53/53), done.\n",
            "/content/UnifiedGenderNet\n",
            "Repository cloned and working directory changed to: /content/UnifiedGenderNet\n"
          ]
        }
      ],
      "source": [
        "!git clone https://github.com/PatternBiometrics/UnifiedGenderNet.git\n",
        "%cd UnifiedGenderNet\n",
        "print(\"Repository cloned and working directory changed to:\", Path.cwd())"
      ],
      "id": "C6f6inoyqnu4"
    },
    {
      "cell_type": "markdown",
      "metadata": {
        "id": "TGjB3xhbqnu5"
      },
      "source": [
        "## 3) Install Dependencies"
      ],
      "id": "TGjB3xhbqnu5"
    },
    {
      "cell_type": "code",
      "execution_count": null,
      "metadata": {
        "id": "Aw1uBo7qqnu5"
      },
      "outputs": [],
      "source": [
        "# Using pip in Jupyter is usually fine; in Colab this is equivalent to a normal pip install.\n",
        "from IPython.display import clear_output\n",
        "!pip install -r requirements.txt\n",
        "clear_output()\n",
        "print(\"Dependencies installed.\")\n"
      ],
      "id": "Aw1uBo7qqnu5"
    },
    {
      "cell_type": "markdown",
      "metadata": {
        "id": "LMk0tRn5qnu5"
      },
      "source": [
        "## 4) Environment Check"
      ],
      "id": "LMk0tRn5qnu5"
    },
    {
      "cell_type": "code",
      "execution_count": 4,
      "metadata": {
        "colab": {
          "base_uri": "https://localhost:8080/"
        },
        "id": "B0eJQZUhqnu6",
        "outputId": "42ecee49-7135-430c-897f-97656e6b9f4a"
      },
      "outputs": [
        {
          "output_type": "stream",
          "name": "stdout",
          "text": [
            "Torch: 2.8.0+cu126\n",
            "Timm : 1.0.19\n",
            "CUDA available: False\n"
          ]
        }
      ],
      "source": [
        "import torch, timm, pandas as pd\n",
        "print(\"Torch:\", torch.__version__)\n",
        "print(\"Timm :\", timm.__version__)\n",
        "print(\"CUDA available:\", torch.cuda.is_available())"
      ],
      "id": "B0eJQZUhqnu6"
    },
    {
      "cell_type": "markdown",
      "metadata": {
        "id": "ayra2PGfqnu6"
      },
      "source": [
        "## 5) Import Package Modules"
      ],
      "id": "ayra2PGfqnu6"
    },
    {
      "cell_type": "code",
      "execution_count": 5,
      "metadata": {
        "colab": {
          "base_uri": "https://localhost:8080/"
        },
        "id": "YeGCpFXlqnu6",
        "outputId": "1df2d9e6-7636-48e4-fd43-3df42a1fc352"
      },
      "outputs": [
        {
          "output_type": "stream",
          "name": "stdout",
          "text": [
            "UMCC and MAG imported successfully ✅\n"
          ]
        }
      ],
      "source": [
        "from UnifiedGenderNet.src.ugnet.models.umcc import UMCC\n",
        "from UnifiedGenderNet.src.ugnet.models.mag import MAG\n",
        "from UnifiedGenderNet.src.ugnet.utils.checkpoint import load_state\n",
        "print(\"UMCC and MAG imported successfully ✅\")"
      ],
      "id": "YeGCpFXlqnu6"
    },
    {
      "cell_type": "markdown",
      "metadata": {
        "id": "2GjJJgh7qnu7"
      },
      "source": [
        "## 6) Forward Pass with Dummy Data"
      ],
      "id": "2GjJJgh7qnu7"
    },
    {
      "cell_type": "code",
      "execution_count": 6,
      "metadata": {
        "colab": {
          "base_uri": "https://localhost:8080/",
          "height": 212,
          "referenced_widgets": [
            "3813ef61d3dd4f6591886603153dcc62",
            "a96efbd239d44aa1836b8ba227bcc608",
            "33ac9ae093844543b18b624fc0485e34",
            "5dd5946636af44e0a963b220bc577c13",
            "c8a4c4a32adf4df68c9375f1a8221716",
            "0d23a42120874db9bc4ef8ca5037538d",
            "67ced1ac5ffa40f2940d617619433f5c",
            "ea94b792b8b94b5385745cfb0359c29c",
            "c2bb44caffc44bce8130da8428c0861f",
            "4459976ffce64f7db12843205b74c259",
            "e55d56a5e6904417a4fdb9aebd8ec01e"
          ]
        },
        "id": "CpmJVYR7qnu7",
        "outputId": "c9ddf1fe-60e5-4131-8326-b8ea6651f011"
      },
      "outputs": [
        {
          "output_type": "stream",
          "name": "stderr",
          "text": [
            "/usr/local/lib/python3.12/dist-packages/huggingface_hub/utils/_auth.py:94: UserWarning: \n",
            "The secret `HF_TOKEN` does not exist in your Colab secrets.\n",
            "To authenticate with the Hugging Face Hub, create a token in your settings tab (https://huggingface.co/settings/tokens), set it as secret in your Google Colab and restart your session.\n",
            "You will be able to reuse this secret in all of your notebooks.\n",
            "Please note that authentication is recommended but still optional to access public models or datasets.\n",
            "  warnings.warn(\n"
          ]
        },
        {
          "output_type": "display_data",
          "data": {
            "text/plain": [
              "model.safetensors:   0%|          | 0.00/86.5M [00:00<?, ?B/s]"
            ],
            "application/vnd.jupyter.widget-view+json": {
              "version_major": 2,
              "version_minor": 0,
              "model_id": "3813ef61d3dd4f6591886603153dcc62"
            }
          },
          "metadata": {}
        },
        {
          "output_type": "stream",
          "name": "stdout",
          "text": [
            "UMCC logits: tensor([-0.3038,  0.0967], grad_fn=<SqueezeBackward1>)\n",
            "MAG logits: tensor([-0.2012, -0.0207], grad_fn=<AddBackward0>)\n"
          ]
        }
      ],
      "source": [
        "x = torch.randn(2, 3, 224, 224)  # 2 fake images\n",
        "flag = torch.tensor([[1, 0], [0, 1]]).float()  # one hand, one face\n",
        "\n",
        "umcc = UMCC(backbone=\"tf_efficientnetv2_s\")\n",
        "logits = umcc(x, flag)\n",
        "print(\"UMCC logits:\", logits)\n",
        "\n",
        "mag = MAG(backbone=\"tf_efficientnetv2_s\")\n",
        "logits2 = mag(x)\n",
        "print(\"MAG logits:\", logits2)"
      ],
      "id": "CpmJVYR7qnu7"
    },
    {
      "cell_type": "markdown",
      "metadata": {
        "id": "Ot7Thy-Wqnu7"
      },
      "source": [
        "## 7) Download & Load Checkpoints\n",
        "\n",
        "This will fetch the best checkpoints for UMCC and MAG using the repo's helper scripts, then load them."
      ],
      "id": "Ot7Thy-Wqnu7"
    },
    {
      "cell_type": "code",
      "execution_count": 7,
      "metadata": {
        "colab": {
          "base_uri": "https://localhost:8080/"
        },
        "id": "3KUZhd1Zqnu7",
        "outputId": "ce5140d0-964f-4a42-b962-4f17e231a109"
      },
      "outputs": [
        {
          "output_type": "stream",
          "name": "stdout",
          "text": [
            "\u001b[36mDownloading best UMCC checkpoint → checkpoints/\u001b[0m\u001b[1;36m1752668630.\u001b[0m\u001b[36mpt\u001b[0m\n",
            "Downloading...\n",
            "From (original): https://drive.google.com/uc?id=1yK36dx8mdG5dvxZNNc50pHoALl77M9jX\n",
            "From (redirected): https://drive.google.com/uc?id=1yK36dx8mdG5dvxZNNc50pHoALl77M9jX&confirm=t&uuid=2d049b59-b2d9-4534-8e1b-49bd2f284276\n",
            "To: /content/UnifiedGenderNet/checkpoints/1752668630.pt\n",
            "100% 81.6M/81.6M [00:01<00:00, 48.7MB/s]\n",
            "\u001b[32mDone.\u001b[0m\n",
            "\u001b[36mDownloading best MAG checkpoint → \u001b[0m\n",
            "\u001b[36mcheckpoints/tf_efficientnetv2_s.\u001b[0m\u001b[36min1k_F0_Af_Lb_Z0_gating\u001b[0m\u001b[36m=\u001b[0m\u001b[36msoft_seed42\u001b[0m\u001b[36m.pt\u001b[0m\n",
            "Downloading...\n",
            "From (original): https://drive.google.com/uc?id=1dtaaEXrHwNI_vhO327DyUL74_5gFCeSX\n",
            "From (redirected): https://drive.google.com/uc?id=1dtaaEXrHwNI_vhO327DyUL74_5gFCeSX&confirm=t&uuid=d2c39fbe-6f79-496b-97b3-68bca556945a\n",
            "To: /content/UnifiedGenderNet/checkpoints/tf_efficientnetv2_s.in1k_F0_Af_Lb_Z0_gating=soft_seed42.pt\n",
            "100% 246M/246M [00:03<00:00, 72.4MB/s]\n",
            "\u001b[32mDone.\u001b[0m\n",
            "UMCC checkpoint exists: True checkpoints/1752668630.pt\n",
            "MAG  checkpoint exists: True checkpoints/tf_efficientnetv2_s.in1k_F0_Af_Lb_Z0_gating=soft_seed42.pt\n",
            "Checkpoint loaded into UMCC ✅\n",
            "Checkpoint loaded into MAG ✅\n"
          ]
        }
      ],
      "source": [
        "!python scripts/download_checkpoints.py --best-umcc\n",
        "!python scripts/download_checkpoints.py --best-mag\n",
        "\n",
        "from pathlib import Path\n",
        "\n",
        "# Example checkpoint paths (adjust if script saves under different names)\n",
        "ckpt_umcc = Path(\"checkpoints/1752668630.pt\")\n",
        "ckpt_mag  = Path(\"checkpoints/tf_efficientnetv2_s.in1k_F0_Af_Lb_Z0_gating=soft_seed42.pt\")\n",
        "\n",
        "print(\"UMCC checkpoint exists:\", ckpt_umcc.exists(), ckpt_umcc)\n",
        "print(\"MAG  checkpoint exists:\", ckpt_mag.exists(), ckpt_mag)\n",
        "\n",
        "# Load into fresh model instances\n",
        "umcc = UMCC(backbone=\"tf_efficientnetv2_s\")\n",
        "if ckpt_umcc.exists():\n",
        "    umcc = load_state(umcc, str(ckpt_umcc))\n",
        "    print(\"Checkpoint loaded into UMCC ✅\")\n",
        "else:\n",
        "    print(\"UMCC checkpoint not found — please verify the path above.\")\n",
        "\n",
        "mag = MAG(backbone=\"tf_efficientnetv2_s\")\n",
        "if ckpt_mag.exists():\n",
        "    mag = load_state(mag, str(ckpt_mag))\n",
        "    print(\"Checkpoint loaded into MAG ✅\")\n",
        "else:\n",
        "    print(\"MAG checkpoint not found — please verify the path above.\")"
      ],
      "id": "3KUZhd1Zqnu7"
    },
    {
      "cell_type": "markdown",
      "metadata": {
        "id": "-HOyxojmqnu7"
      },
      "source": [
        "## 8) (Optional) Download Derived HaGRID Dataset\n",
        "\n",
        "If you need a sample dataset, the repo provides a helper script. You can skip this if you already have images locally."
      ],
      "id": "-HOyxojmqnu7"
    },
    {
      "cell_type": "code",
      "execution_count": 10,
      "metadata": {
        "colab": {
          "base_uri": "https://localhost:8080/"
        },
        "id": "dl_45XQ6qnu7",
        "outputId": "bec18e1c-d236-4982-e693-e339cb225fd3"
      },
      "outputs": [
        {
          "output_type": "stream",
          "name": "stdout",
          "text": [
            "Skip: data/Shared_Derived_HaGRID_unified_Model_For_Sex_Prediction/train.csv exists.\n",
            "Skip: data/Shared_Derived_HaGRID_unified_Model_For_Sex_Prediction/val.csv exists.\n",
            "Skip: data/Shared_Derived_HaGRID_unified_Model_For_Sex_Prediction/test.csv exists.\n",
            "Downloading → data/Shared_Derived_HaGRID_unified_Model_For_Sex_Prediction/aligned_dataset.zip\n",
            "Downloading...\n",
            "From (original): https://drive.google.com/uc?id=1-52CWGkVhs4k3uWtvAdSz7tvplSX0_84\n",
            "From (redirected): https://drive.google.com/uc?id=1-52CWGkVhs4k3uWtvAdSz7tvplSX0_84&confirm=t&uuid=0f7cbb73-47ae-45ac-a9c0-46a0dcdc3f9c\n",
            "To: /content/UnifiedGenderNet/data/Shared_Derived_HaGRID_unified_Model_For_Sex_Prediction/aligned_dataset.zip\n",
            "100% 288M/288M [00:01<00:00, 145MB/s]\n",
            "Unzipping aligned_dataset.zip → data/Shared_Derived_HaGRID_unified_Model_For_Sex_Prediction/images/content/aligned_dataset\n",
            "Unzip done.\n",
            "All done.\n"
          ]
        }
      ],
      "source": [
        "!python scripts/download_derived_hagrid.py"
      ],
      "id": "dl_45XQ6qnu7"
    },
    {
      "cell_type": "markdown",
      "metadata": {
        "id": "yRZC3ylCqnu8"
      },
      "source": [
        "## 9) Inference on a Sample Image\n",
        "\n",
        "Looks for any `*.jpg` under `data/` and runs `UMCC.infer` on it. Change `modality` to `\"hand\"` if needed."
      ],
      "id": "yRZC3ylCqnu8"
    },
    {
      "cell_type": "code",
      "execution_count": 11,
      "metadata": {
        "colab": {
          "base_uri": "https://localhost:8080/",
          "height": 355
        },
        "id": "J5ZnMwkTqnu8",
        "outputId": "a35aec2f-6633-403f-c1a7-4b901efef3b0"
      },
      "outputs": [
        {
          "output_type": "stream",
          "name": "stdout",
          "text": [
            "Using sample: data/Shared_Derived_HaGRID_unified_Model_For_Sex_Prediction/images/content/content/aligned_dataset/faces/F_07fff175-3284-4969-af47-17f9ef064638.jpg\n"
          ]
        },
        {
          "output_type": "display_data",
          "data": {
            "text/plain": [
              "<PIL.Image.Image image mode=RGB size=300x300>"
            ],
            "image/png": "[encoded data removed]",
            "image/jpeg": "[encoded data removed]"
          },
          "metadata": {}
        }
      ],
      "source": [
        "from PIL import Image\n",
        "import torchvision.transforms as T\n",
        "\n",
        "data_dir = Path(\"data\")\n",
        "imgs = list(data_dir.rglob(\"*.jpg\")) if data_dir.exists() else []\n",
        "if not imgs:\n",
        "    raise FileNotFoundError(\"No JPG images found under ./data — download data or adjust the path.\")\n",
        "\n",
        "sample_img_path = imgs[0]\n",
        "print(\"Using sample:\", sample_img_path)\n",
        "\n",
        "img = Image.open(sample_img_path).convert(\"RGB\")\n",
        "tf = T.Compose([T.Resize((224, 224)), T.ToTensor()])\n",
        "x = tf(img).unsqueeze(0)\n",
        "\n",
        "display(img)\n"
      ],
      "id": "J5ZnMwkTqnu8"
    },
    {
      "cell_type": "code",
      "source": [
        "\n",
        "prob = umcc.infer(x, modality=\"face\")  # or \"hand\"\n",
        "print(\"Predicted probability (male):\", float(prob))"
      ],
      "metadata": {
        "colab": {
          "base_uri": "https://localhost:8080/"
        },
        "id": "6wXhw5ZdrX_r",
        "outputId": "bd42b279-890a-4959-c812-c0da7c95d44e"
      },
      "id": "6wXhw5ZdrX_r",
      "execution_count": 12,
      "outputs": [
        {
          "output_type": "stream",
          "name": "stdout",
          "text": [
            "Predicted probability (male): 0.9999966621398926\n"
          ]
        }
      ]
    }
  ],
  "metadata": {
    "kernelspec": {
      "display_name": "Python 3",
      "language": "python",
      "name": "python3"
    },
    "language_info": {
      "name": "python",
      "version": "3.10"
    },
    "colab": {
      "provenance": []
    },
    "widgets": {
      "application/vnd.jupyter.widget-state+json": {
        "3813ef61d3dd4f6591886603153dcc62": {
          "model_module": "@jupyter-widgets/controls",
          "model_name": "HBoxModel",
          "model_module_version": "1.5.0",
          "state": {
            "_dom_classes": [],
            "_model_module": "@jupyter-widgets/controls",
            "_model_module_version": "1.5.0",
            "_model_name": "HBoxModel",
            "_view_count": null,
            "_view_module": "@jupyter-widgets/controls",
            "_view_module_version": "1.5.0",
            "_view_name": "HBoxView",
            "box_style": "",
            "children": [
              "IPY_MODEL_a96efbd239d44aa1836b8ba227bcc608",
              "IPY_MODEL_33ac9ae093844543b18b624fc0485e34",
              "IPY_MODEL_5dd5946636af44e0a963b220bc577c13"
            ],
            "layout": "IPY_MODEL_c8a4c4a32adf4df68c9375f1a8221716"
          }
        },
        "a96efbd239d44aa1836b8ba227bcc608": {
          "model_module": "@jupyter-widgets/controls",
          "model_name": "HTMLModel",
          "model_module_version": "1.5.0",
          "state": {
            "_dom_classes": [],
            "_model_module": "@jupyter-widgets/controls",
            "_model_module_version": "1.5.0",
            "_model_name": "HTMLModel",
            "_view_count": null,
            "_view_module": "@jupyter-widgets/controls",
            "_view_module_version": "1.5.0",
            "_view_name": "HTMLView",
            "description": "",
            "description_tooltip": null,
            "layout": "IPY_MODEL_0d23a42120874db9bc4ef8ca5037538d",
            "placeholder": "​",
            "style": "IPY_MODEL_67ced1ac5ffa40f2940d617619433f5c",
            "value": "model.safetensors: 100%"
          }
        },
        "33ac9ae093844543b18b624fc0485e34": {
          "model_module": "@jupyter-widgets/controls",
          "model_name": "FloatProgressModel",
          "model_module_version": "1.5.0",
          "state": {
            "_dom_classes": [],
            "_model_module": "@jupyter-widgets/controls",
            "_model_module_version": "1.5.0",
            "_model_name": "FloatProgressModel",
            "_view_count": null,
            "_view_module": "@jupyter-widgets/controls",
            "_view_module_version": "1.5.0",
            "_view_name": "ProgressView",
            "bar_style": "success",
            "description": "",
            "description_tooltip": null,
            "layout": "IPY_MODEL_ea94b792b8b94b5385745cfb0359c29c",
            "max": 86523256,
            "min": 0,
            "orientation": "horizontal",
            "style": "IPY_MODEL_c2bb44caffc44bce8130da8428c0861f",
            "value": 86523256
          }
        },
        "5dd5946636af44e0a963b220bc577c13": {
          "model_module": "@jupyter-widgets/controls",
          "model_name": "HTMLModel",
          "model_module_version": "1.5.0",
          "state": {
            "_dom_classes": [],
            "_model_module": "@jupyter-widgets/controls",
            "_model_module_version": "1.5.0",
            "_model_name": "HTMLModel",
            "_view_count": null,
            "_view_module": "@jupyter-widgets/controls",
            "_view_module_version": "1.5.0",
            "_view_name": "HTMLView",
            "description": "",
            "description_tooltip": null,
            "layout": "IPY_MODEL_4459976ffce64f7db12843205b74c259",
            "placeholder": "​",
            "style": "IPY_MODEL_e55d56a5e6904417a4fdb9aebd8ec01e",
            "value": " 86.5M/86.5M [00:00&lt;00:00, 167MB/s]"
          }
        },
        "c8a4c4a32adf4df68c9375f1a8221716": {
          "model_module": "@jupyter-widgets/base",
          "model_name": "LayoutModel",
          "model_module_version": "1.2.0",
          "state": {
            "_model_module": "@jupyter-widgets/base",
            "_model_module_version": "1.2.0",
            "_model_name": "LayoutModel",
            "_view_count": null,
            "_view_module": "@jupyter-widgets/base",
            "_view_module_version": "1.2.0",
            "_view_name": "LayoutView",
            "align_content": null,
            "align_items": null,
            "align_self": null,
            "border": null,
            "bottom": null,
            "display": null,
            "flex": null,
            "flex_flow": null,
            "grid_area": null,
            "grid_auto_columns": null,
            "grid_auto_flow": null,
            "grid_auto_rows": null,
            "grid_column": null,
            "grid_gap": null,
            "grid_row": null,
            "grid_template_areas": null,
            "grid_template_columns": null,
            "grid_template_rows": null,
            "height": null,
            "justify_content": null,
            "justify_items": null,
            "left": null,
            "margin": null,
            "max_height": null,
            "max_width": null,
            "min_height": null,
            "min_width": null,
            "object_fit": null,
            "object_position": null,
            "order": null,
            "overflow": null,
            "overflow_x": null,
            "overflow_y": null,
            "padding": null,
            "right": null,
            "top": null,
            "visibility": null,
            "width": null
          }
        },
        "0d23a42120874db9bc4ef8ca5037538d": {
          "model_module": "@jupyter-widgets/base",
          "model_name": "LayoutModel",
          "model_module_version": "1.2.0",
          "state": {
            "_model_module": "@jupyter-widgets/base",
            "_model_module_version": "1.2.0",
            "_model_name": "LayoutModel",
            "_view_count": null,
            "_view_module": "@jupyter-widgets/base",
            "_view_module_version": "1.2.0",
            "_view_name": "LayoutView",
            "align_content": null,
            "align_items": null,
            "align_self": null,
            "border": null,
            "bottom": null,
            "display": null,
            "flex": null,
            "flex_flow": null,
            "grid_area": null,
            "grid_auto_columns": null,
            "grid_auto_flow": null,
            "grid_auto_rows": null,
            "grid_column": null,
            "grid_gap": null,
            "grid_row": null,
            "grid_template_areas": null,
            "grid_template_columns": null,
            "grid_template_rows": null,
            "height": null,
            "justify_content": null,
            "justify_items": null,
            "left": null,
            "margin": null,
            "max_height": null,
            "max_width": null,
            "min_height": null,
            "min_width": null,
            "object_fit": null,
            "object_position": null,
            "order": null,
            "overflow": null,
            "overflow_x": null,
            "overflow_y": null,
            "padding": null,
            "right": null,
            "top": null,
            "visibility": null,
            "width": null
          }
        },
        "67ced1ac5ffa40f2940d617619433f5c": {
          "model_module": "@jupyter-widgets/controls",
          "model_name": "DescriptionStyleModel",
          "model_module_version": "1.5.0",
          "state": {
            "_model_module": "@jupyter-widgets/controls",
            "_model_module_version": "1.5.0",
            "_model_name": "DescriptionStyleModel",
            "_view_count": null,
            "_view_module": "@jupyter-widgets/base",
            "_view_module_version": "1.2.0",
            "_view_name": "StyleView",
            "description_width": ""
          }
        },
        "ea94b792b8b94b5385745cfb0359c29c": {
          "model_module": "@jupyter-widgets/base",
          "model_name": "LayoutModel",
          "model_module_version": "1.2.0",
          "state": {
            "_model_module": "@jupyter-widgets/base",
            "_model_module_version": "1.2.0",
            "_model_name": "LayoutModel",
            "_view_count": null,
            "_view_module": "@jupyter-widgets/base",
            "_view_module_version": "1.2.0",
            "_view_name": "LayoutView",
            "align_content": null,
            "align_items": null,
            "align_self": null,
            "border": null,
            "bottom": null,
            "display": null,
            "flex": null,
            "flex_flow": null,
            "grid_area": null,
            "grid_auto_columns": null,
            "grid_auto_flow": null,
            "grid_auto_rows": null,
            "grid_column": null,
            "grid_gap": null,
            "grid_row": null,
            "grid_template_areas": null,
            "grid_template_columns": null,
            "grid_template_rows": null,
            "height": null,
            "justify_content": null,
            "justify_items": null,
            "left": null,
            "margin": null,
            "max_height": null,
            "max_width": null,
            "min_height": null,
            "min_width": null,
            "object_fit": null,
            "object_position": null,
            "order": null,
            "overflow": null,
            "overflow_x": null,
            "overflow_y": null,
            "padding": null,
            "right": null,
            "top": null,
            "visibility": null,
            "width": null
          }
        },
        "c2bb44caffc44bce8130da8428c0861f": {
          "model_module": "@jupyter-widgets/controls",
          "model_name": "ProgressStyleModel",
          "model_module_version": "1.5.0",
          "state": {
            "_model_module": "@jupyter-widgets/controls",
            "_model_module_version": "1.5.0",
            "_model_name": "ProgressStyleModel",
            "_view_count": null,
            "_view_module": "@jupyter-widgets/base",
            "_view_module_version": "1.2.0",
            "_view_name": "StyleView",
            "bar_color": null,
            "description_width": ""
          }
        },
        "4459976ffce64f7db12843205b74c259": {
          "model_module": "@jupyter-widgets/base",
          "model_name": "LayoutModel",
          "model_module_version": "1.2.0",
          "state": {
            "_model_module": "@jupyter-widgets/base",
            "_model_module_version": "1.2.0",
            "_model_name": "LayoutModel",
            "_view_count": null,
            "_view_module": "@jupyter-widgets/base",
            "_view_module_version": "1.2.0",
            "_view_name": "LayoutView",
            "align_content": null,
            "align_items": null,
            "align_self": null,
            "border": null,
            "bottom": null,
            "display": null,
            "flex": null,
            "flex_flow": null,
            "grid_area": null,
            "grid_auto_columns": null,
            "grid_auto_flow": null,
            "grid_auto_rows": null,
            "grid_column": null,
            "grid_gap": null,
            "grid_row": null,
            "grid_template_areas": null,
            "grid_template_columns": null,
            "grid_template_rows": null,
            "height": null,
            "justify_content": null,
            "justify_items": null,
            "left": null,
            "margin": null,
            "max_height": null,
            "max_width": null,
            "min_height": null,
            "min_width": null,
            "object_fit": null,
            "object_position": null,
            "order": null,
            "overflow": null,
            "overflow_x": null,
            "overflow_y": null,
            "padding": null,
            "right": null,
            "top": null,
            "visibility": null,
            "width": null
          }
        },
        "e55d56a5e6904417a4fdb9aebd8ec01e": {
          "model_module": "@jupyter-widgets/controls",
          "model_name": "DescriptionStyleModel",
          "model_module_version": "1.5.0",
          "state": {
            "_model_module": "@jupyter-widgets/controls",
            "_model_module_version": "1.5.0",
            "_model_name": "DescriptionStyleModel",
            "_view_count": null,
            "_view_module": "@jupyter-widgets/base",
            "_view_module_version": "1.2.0",
            "_view_name": "StyleView",
            "description_width": ""
          }
        }
      }
    }
  },
  "nbformat": 4,
  "nbformat_minor": 5
}